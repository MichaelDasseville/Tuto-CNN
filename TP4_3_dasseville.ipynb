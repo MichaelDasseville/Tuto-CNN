{
 "cells": [
  {
   "cell_type": "markdown",
   "metadata": {},
   "source": [
    "Michael Dasseville"
   ]
  },
  {
   "cell_type": "markdown",
   "metadata": {
    "colab_type": "text",
    "id": "iafPdtuncbq7"
   },
   "source": [
    "<h1><center>TSIA 2013 Introduction to Deep Learning</center></h1>\n",
    "<h2><center>CIFAR10 classification using a VGG-like CNN</center></h2>\n",
    "<center>Email the complete notebook to attilio.fiandrotti@telecom-paristech.fr</center>"
   ]
  },
  {
   "cell_type": "markdown",
   "metadata": {
    "colab_type": "text",
    "id": "I4VrCB5La5rD"
   },
   "source": [
    "# Installing and importing Keras"
   ]
  },
  {
   "cell_type": "code",
   "execution_count": 1,
   "metadata": {
    "colab": {},
    "colab_type": "code",
    "id": "OlKZ3Hnas7B4"
   },
   "outputs": [
    {
     "name": "stderr",
     "output_type": "stream",
     "text": [
      "Using TensorFlow backend.\n"
     ]
    }
   ],
   "source": [
    "# Importing the Keras main module: different backends will have different data ordering:\n",
    "# theano backend: NCHW\n",
    "# tensorflow backend: NHWC \n",
    "import keras"
   ]
  },
  {
   "cell_type": "code",
   "execution_count": 2,
   "metadata": {},
   "outputs": [
    {
     "name": "stdout",
     "output_type": "stream",
     "text": [
      "[name: \"/device:CPU:0\"\n",
      "device_type: \"CPU\"\n",
      "memory_limit: 268435456\n",
      "locality {\n",
      "}\n",
      "incarnation: 9796148290673177519\n",
      ", name: \"/device:GPU:0\"\n",
      "device_type: \"GPU\"\n",
      "memory_limit: 6671596257\n",
      "locality {\n",
      "  bus_id: 1\n",
      "  links {\n",
      "  }\n",
      "}\n",
      "incarnation: 11627960861538374768\n",
      "physical_device_desc: \"device: 0, name: GeForce GTX 1080, pci bus id: 0000:0a:00.0, compute capability: 6.1\"\n",
      "]\n"
     ]
    }
   ],
   "source": [
    "from tensorflow.python.client import device_lib\n",
    "print(device_lib.list_local_devices())"
   ]
  },
  {
   "cell_type": "markdown",
   "metadata": {
    "colab_type": "text",
    "id": "s_QLz9_jbRZq"
   },
   "source": [
    "# Loading and preparing the CIFAR10 dataset\n",
    "Load the CIFAR10 dataset, normalize the input images with respect to mean and standard deviation and convert labels to one-hot encoding."
   ]
  },
  {
   "cell_type": "code",
   "execution_count": 3,
   "metadata": {
    "cellView": "both",
    "colab": {},
    "colab_type": "code",
    "id": "gG83hGyVmijn"
   },
   "outputs": [],
   "source": [
    "#@title\n",
    "# The CIFAR dataset is ready to be imported from Keras into RAM\n",
    "from keras.datasets import cifar10\n",
    "# START CODE HERE\n",
    "(x_train, y_train), (x_test, y_test) = cifar10.load_data()\n",
    "\n",
    "img_rows, img_cols = 32,32\n",
    "\n",
    "from keras.utils.np_utils import to_categorical\n",
    "\n",
    "y_train = to_categorical(y_train, num_classes=10, dtype='float32')\n",
    "y_test = to_categorical(y_test, num_classes=10, dtype='float32')\n",
    "\n",
    "x_train = x_train.astype('float32')\n",
    "x_test = x_test.astype('float32')\n",
    "\n",
    "# END CODE HERE"
   ]
  },
  {
   "cell_type": "markdown",
   "metadata": {
    "colab_type": "text",
    "id": "uwm1OFOtc4uU"
   },
   "source": [
    "# Defining the neural network architecture (i.e., the network model)\n",
    "Define and compile a LeNet5-like convolutional neural network according to the topology and hyperparameters that yield the best results in the previous exercise over the MNIST dataset."
   ]
  },
  {
   "cell_type": "code",
   "execution_count": 6,
   "metadata": {
    "colab": {},
    "colab_type": "code",
    "id": "Pnd3q1V3nk8v"
   },
   "outputs": [
    {
     "name": "stdout",
     "output_type": "stream",
     "text": [
      "WARNING:tensorflow:From C:\\Users\\Michael\\Anaconda3\\lib\\site-packages\\keras\\backend\\tensorflow_backend.py:3445: calling dropout (from tensorflow.python.ops.nn_ops) with keep_prob is deprecated and will be removed in a future version.\n",
      "Instructions for updating:\n",
      "Please use `rate` instead of `keep_prob`. Rate should be set to `rate = 1 - keep_prob`.\n",
      "_________________________________________________________________\n",
      "Layer (type)                 Output Shape              Param #   \n",
      "=================================================================\n",
      "conv2d_5 (Conv2D)            (None, 28, 28, 6)         456       \n",
      "_________________________________________________________________\n",
      "activation_11 (Activation)   (None, 28, 28, 6)         0         \n",
      "_________________________________________________________________\n",
      "dropout_2 (Dropout)          (None, 28, 28, 6)         0         \n",
      "_________________________________________________________________\n",
      "max_pooling2d_5 (MaxPooling2 (None, 14, 14, 6)         0         \n",
      "_________________________________________________________________\n",
      "conv2d_6 (Conv2D)            (None, 10, 10, 16)        2416      \n",
      "_________________________________________________________________\n",
      "activation_12 (Activation)   (None, 10, 10, 16)        0         \n",
      "_________________________________________________________________\n",
      "max_pooling2d_6 (MaxPooling2 (None, 5, 5, 16)          0         \n",
      "_________________________________________________________________\n",
      "flatten_3 (Flatten)          (None, 400)               0         \n",
      "_________________________________________________________________\n",
      "dense_7 (Dense)              (None, 120)               48120     \n",
      "_________________________________________________________________\n",
      "activation_13 (Activation)   (None, 120)               0         \n",
      "_________________________________________________________________\n",
      "dense_8 (Dense)              (None, 84)                10164     \n",
      "_________________________________________________________________\n",
      "activation_14 (Activation)   (None, 84)                0         \n",
      "_________________________________________________________________\n",
      "dense_9 (Dense)              (None, 10)                850       \n",
      "_________________________________________________________________\n",
      "activation_15 (Activation)   (None, 10)                0         \n",
      "=================================================================\n",
      "Total params: 62,006\n",
      "Trainable params: 62,006\n",
      "Non-trainable params: 0\n",
      "_________________________________________________________________\n"
     ]
    }
   ],
   "source": [
    "# Defining our SGD optimizer\n",
    "from keras.models import Sequential\n",
    "from keras.layers import Dense, Activation, Flatten, Dropout\n",
    "from keras.layers import Convolution2D, MaxPooling2D\n",
    "\n",
    "# The optimizers module provides a number of optimization algorithms for updating\n",
    "# a netwok parameters accoridng to teh computed error gradints\n",
    "from keras import optimizers\n",
    "\n",
    "input_shape = x_train.shape[1:]\n",
    "\n",
    "# size of pooling area for max pooling\n",
    "pool_size = (2, 2)\n",
    "# convolution kernel size\n",
    "kernel_size = (5, 5)\n",
    "# Number of filters in first convolutional layer\n",
    "num_kernel_first_conv_layer = 6\n",
    "# Number of filters in second convolutional layer\n",
    "num_kernel_second_conv_layer = 16\n",
    "\n",
    "nb_classes = 10\n",
    "\n",
    "# START CODE HERE\n",
    "model = Sequential()\n",
    "model.add(Convolution2D(input_shape=input_shape, kernel_size=kernel_size,filters=num_kernel_first_conv_layer))\n",
    "model.add(Activation('relu'))\n",
    "model.add(Dropout(0.2))\n",
    "model.add(MaxPooling2D(pool_size=pool_size))\n",
    "model.add(Convolution2D(filters=num_kernel_second_conv_layer, kernel_size=kernel_size))\n",
    "model.add(Activation('relu'))\n",
    "model.add(MaxPooling2D(pool_size=pool_size))\n",
    "model.add(Flatten())\n",
    "model.add(Dense(units=120,input_dim=400))\n",
    "model.add(Activation('relu'))\n",
    "model.add(Dense(units=84,input_dim=120))\n",
    "model.add(Activation('relu'))\n",
    "model.add(Dense(units=10, input_dim=84))\n",
    "model.add(Activation('softmax'))\n",
    "# END CODE HERE\n",
    "\n",
    "# Defining our SGD optimizer\n",
    "\n",
    "# START CODE HERE\n",
    "myop = optimizers.SGD(lr=0.001)\n",
    "model.compile(optimizer=myop,loss='categorical_crossentropy', metrics=['accuracy'])\n",
    "# END CODE HERE\n",
    "\n",
    "# Let us have a look at the model topology\n",
    "model.summary()\n",
    "\n",
    "\n"
   ]
  },
  {
   "cell_type": "markdown",
   "metadata": {
    "colab_type": "text",
    "id": "_AWUAW4idF3D"
   },
   "source": [
    "# Training the network\n",
    "Train the network using the configuration that yield the best results in the pervious exercise."
   ]
  },
  {
   "cell_type": "code",
   "execution_count": 15,
   "metadata": {
    "colab": {},
    "colab_type": "code",
    "id": "gTHrbb7uFYWz"
   },
   "outputs": [
    {
     "name": "stdout",
     "output_type": "stream",
     "text": [
      "Train on 50000 samples, validate on 10000 samples\n",
      "Epoch 1/10\n",
      "50000/50000 [==============================] - 4s 74us/step - loss: 3.4892 - acc: 0.1090 - val_loss: 2.3093 - val_acc: 0.1062\n",
      "Epoch 2/10\n",
      "50000/50000 [==============================] - 3s 67us/step - loss: 2.3046 - acc: 0.1056 - val_loss: 2.3057 - val_acc: 0.1045\n",
      "Epoch 3/10\n",
      "50000/50000 [==============================] - 3s 66us/step - loss: 2.3031 - acc: 0.1062 - val_loss: 2.3047 - val_acc: 0.1030\n",
      "Epoch 4/10\n",
      "50000/50000 [==============================] - 3s 66us/step - loss: 2.3026 - acc: 0.1052 - val_loss: 2.3042 - val_acc: 0.1024\n",
      "Epoch 5/10\n",
      "50000/50000 [==============================] - 3s 66us/step - loss: 2.3023 - acc: 0.1062 - val_loss: 2.3039 - val_acc: 0.1018\n",
      "Epoch 6/10\n",
      "50000/50000 [==============================] - 3s 66us/step - loss: 2.3020 - acc: 0.1055 - val_loss: 2.3037 - val_acc: 0.1033\n",
      "Epoch 7/10\n",
      "50000/50000 [==============================] - 3s 66us/step - loss: 2.3018 - acc: 0.1069 - val_loss: 2.3035 - val_acc: 0.1037\n",
      "Epoch 8/10\n",
      "50000/50000 [==============================] - 3s 66us/step - loss: 2.3015 - acc: 0.1077 - val_loss: 2.3033 - val_acc: 0.1037\n",
      "Epoch 9/10\n",
      "50000/50000 [==============================] - 3s 66us/step - loss: 2.3013 - acc: 0.1078 - val_loss: 2.3031 - val_acc: 0.1044\n",
      "Epoch 10/10\n",
      "50000/50000 [==============================] - 3s 65us/step - loss: 2.3010 - acc: 0.1083 - val_loss: 2.3030 - val_acc: 0.1048\n"
     ]
    }
   ],
   "source": [
    "# Dimension of the batch size (number of images over which error gradients are averaged)\n",
    "batch_size = 100\n",
    "# We train the model for 10 epochs\n",
    "epochs = 10\n",
    "\n",
    "# START CODE HERE\n",
    "history = model.fit(x=x_train, y=y_train, validation_data=(x_test,y_test)\n",
    "                    ,epochs=epochs, batch_size=batch_size)\n",
    "# END CODE HERE"
   ]
  },
  {
   "cell_type": "markdown",
   "metadata": {
    "colab_type": "text",
    "id": "Nr4TdWoEoDzi"
   },
   "source": [
    "# Experiments\n",
    "\n",
    "* Note down the performance of the trained network (loss and accuracy curves) as a reference.\n",
    "\n",
    "\n",
    "\n"
   ]
  },
  {
   "cell_type": "code",
   "execution_count": 16,
   "metadata": {},
   "outputs": [
    {
     "data": {
      "image/png": "[encoded data removed]",
      "text/plain": [
       "<Figure size 432x288 with 1 Axes>"
      ]
     },
     "metadata": {
      "needs_background": "light"
     },
     "output_type": "display_data"
    },
    {
     "data": {
      "image/png": "[encoded data removed]",
      "text/plain": [
       "<Figure size 432x288 with 1 Axes>"
      ]
     },
     "metadata": {
      "needs_background": "light"
     },
     "output_type": "display_data"
    }
   ],
   "source": [
    "from matplotlib import pyplot as plt\n",
    "\n",
    "\n",
    "# summarize history for loss\n",
    "# START CODE HERE\n",
    "plt.plot(history.history['val_loss'])\n",
    "plt.plot(history.history['loss'])\n",
    "plt.title('validation loss')\n",
    "plt.ylabel('loss')\n",
    "plt.xlabel('iteration')\n",
    "plt.legend(['train','test'])\n",
    "# END CODE HERE\n",
    "plt.show()\n",
    "\n",
    "# summarize history for accuracy\n",
    "plt.plot(history.history['val_acc'])\n",
    "plt.plot(history.history['acc'])\n",
    "plt.title('validation accuracy')\n",
    "plt.ylabel('accuracy')\n",
    "plt.xlabel('iteration')\n",
    "plt.legend(['train','test'])\n",
    "# END CODE HERE\n",
    "plt.show()\n"
   ]
  },
  {
   "cell_type": "markdown",
   "metadata": {
    "colab_type": "text",
    "id": "m38WwUKBIa3b"
   },
   "source": [
    "# VGG-net like architecture\n",
    "Redefine your network architecture taking inspiration from the VGG topology.\n",
    "If the network overfits to the training data, expeirment with dropout."
   ]
  },
  {
   "cell_type": "code",
   "execution_count": 7,
   "metadata": {},
   "outputs": [
    {
     "name": "stdout",
     "output_type": "stream",
     "text": [
      "(50000, 32, 32, 3)\n"
     ]
    }
   ],
   "source": [
    "print(x_train.shape)"
   ]
  },
  {
   "cell_type": "code",
   "execution_count": 8,
   "metadata": {},
   "outputs": [
    {
     "name": "stdout",
     "output_type": "stream",
     "text": [
      "WARNING:tensorflow:From C:\\Users\\Michael\\Anaconda3\\lib\\site-packages\\keras\\backend\\tensorflow_backend.py:3445: calling dropout (from tensorflow.python.ops.nn_ops) with keep_prob is deprecated and will be removed in a future version.\n",
      "Instructions for updating:\n",
      "Please use `rate` instead of `keep_prob`. Rate should be set to `rate = 1 - keep_prob`.\n",
      "_________________________________________________________________\n",
      "Layer (type)                 Output Shape              Param #   \n",
      "=================================================================\n",
      "conv2d_3 (Conv2D)            (None, 32, 32, 64)        1792      \n",
      "_________________________________________________________________\n",
      "conv2d_4 (Conv2D)            (None, 32, 32, 64)        36928     \n",
      "_________________________________________________________________\n",
      "max_pooling2d_3 (MaxPooling2 (None, 16, 16, 64)        0         \n",
      "_________________________________________________________________\n",
      "conv2d_5 (Conv2D)            (None, 16, 16, 128)       73856     \n",
      "_________________________________________________________________\n",
      "conv2d_6 (Conv2D)            (None, 16, 16, 128)       147584    \n",
      "_________________________________________________________________\n",
      "max_pooling2d_4 (MaxPooling2 (None, 8, 8, 128)         0         \n",
      "_________________________________________________________________\n",
      "conv2d_7 (Conv2D)            (None, 8, 8, 256)         295168    \n",
      "_________________________________________________________________\n",
      "conv2d_8 (Conv2D)            (None, 8, 8, 256)         590080    \n",
      "_________________________________________________________________\n",
      "conv2d_9 (Conv2D)            (None, 8, 8, 256)         590080    \n",
      "_________________________________________________________________\n",
      "max_pooling2d_5 (MaxPooling2 (None, 4, 4, 256)         0         \n",
      "_________________________________________________________________\n",
      "conv2d_10 (Conv2D)           (None, 4, 4, 512)         1180160   \n",
      "_________________________________________________________________\n",
      "conv2d_11 (Conv2D)           (None, 4, 4, 512)         2359808   \n",
      "_________________________________________________________________\n",
      "conv2d_12 (Conv2D)           (None, 4, 4, 512)         2359808   \n",
      "_________________________________________________________________\n",
      "max_pooling2d_6 (MaxPooling2 (None, 2, 2, 512)         0         \n",
      "_________________________________________________________________\n",
      "conv2d_13 (Conv2D)           (None, 2, 2, 512)         2359808   \n",
      "_________________________________________________________________\n",
      "conv2d_14 (Conv2D)           (None, 2, 2, 512)         2359808   \n",
      "_________________________________________________________________\n",
      "conv2d_15 (Conv2D)           (None, 2, 2, 512)         2359808   \n",
      "_________________________________________________________________\n",
      "max_pooling2d_7 (MaxPooling2 (None, 1, 1, 512)         0         \n",
      "_________________________________________________________________\n",
      "flatten_2 (Flatten)          (None, 512)               0         \n",
      "_________________________________________________________________\n",
      "dropout_1 (Dropout)          (None, 512)               0         \n",
      "_________________________________________________________________\n",
      "dense_4 (Dense)              (None, 512)               262656    \n",
      "_________________________________________________________________\n",
      "dropout_2 (Dropout)          (None, 512)               0         \n",
      "_________________________________________________________________\n",
      "dense_5 (Dense)              (None, 512)               262656    \n",
      "_________________________________________________________________\n",
      "dense_6 (Dense)              (None, 10)                5130      \n",
      "=================================================================\n",
      "Total params: 15,245,130\n",
      "Trainable params: 15,245,130\n",
      "Non-trainable params: 0\n",
      "_________________________________________________________________\n"
     ]
    }
   ],
   "source": [
    "from keras.layers import Dropout\n",
    "k_size = (3,3)\n",
    "p_size = (2,2)\n",
    "strides = (2,2)\n",
    "input_shape = x_train.shape[1:]\n",
    "\n",
    "model = Sequential()\n",
    "# Block 1\n",
    "model.add(Convolution2D(64,k_size,input_shape=input_shape, activation='relu', padding='same'))\n",
    "model.add(Convolution2D(64,k_size,activation='relu', padding='same'))\n",
    "model.add(MaxPooling2D(pool_size=p_size,strides=strides))\n",
    "# Block 2\n",
    "model.add(Convolution2D(128,k_size,activation='relu', padding='same'))\n",
    "model.add(Convolution2D(128,k_size,activation='relu', padding='same'))\n",
    "model.add(MaxPooling2D(pool_size=p_size,strides=strides))\n",
    "# Block 3\n",
    "model.add(Convolution2D(256,k_size,activation='relu', padding='same'))\n",
    "model.add(Convolution2D(256,k_size,activation='relu', padding='same'))\n",
    "model.add(Convolution2D(256,k_size,activation='relu', padding='same'))\n",
    "model.add(MaxPooling2D(pool_size=p_size,strides=strides))\n",
    "# Block 4\n",
    "model.add(Convolution2D(512,k_size,activation='relu', padding='same'))\n",
    "model.add(Convolution2D(512,k_size,activation='relu', padding='same'))\n",
    "model.add(Convolution2D(512,k_size,activation='relu', padding='same'))\n",
    "model.add(MaxPooling2D(pool_size=p_size,strides=strides))\n",
    "# Block 5\n",
    "model.add(Convolution2D(512,k_size,activation='relu', padding='same'))\n",
    "model.add(Convolution2D(512,k_size,activation='relu', padding='same'))\n",
    "model.add(Convolution2D(512,k_size,activation='relu', padding='same'))\n",
    "model.add(MaxPooling2D(pool_size=p_size,strides=strides))\n",
    "model.add(Flatten())\n",
    "# Block 6\n",
    "model.add(Dropout(0.3))\n",
    "model.add(Dense(512,activation='relu'))\n",
    "model.add(Dropout(0.2))\n",
    "model.add(Dense(512,activation='relu'))\n",
    "model.add(Dense(10,activation='softmax'))\n",
    "\n",
    "myop = optimizers.SGD(lr=0.001)\n",
    "model.compile(optimizer=myop,loss='categorical_crossentropy', metrics=['accuracy'])\n",
    "\n",
    "model.summary()"
   ]
  },
  {
   "cell_type": "code",
   "execution_count": 9,
   "metadata": {},
   "outputs": [
    {
     "name": "stdout",
     "output_type": "stream",
     "text": [
      "Train on 50000 samples, validate on 10000 samples\n",
      "Epoch 1/10\n",
      "50000/50000 [==============================] - 30s 598us/step - loss: 2.2494 - acc: 0.1542 - val_loss: 2.1002 - val_acc: 0.2078\n",
      "Epoch 2/10\n",
      "50000/50000 [==============================] - 28s 563us/step - loss: 2.0774 - acc: 0.2214 - val_loss: 1.9459 - val_acc: 0.2921\n",
      "Epoch 3/10\n",
      "50000/50000 [==============================] - 28s 559us/step - loss: 1.9669 - acc: 0.2760 - val_loss: 1.8097 - val_acc: 0.3484\n",
      "Epoch 4/10\n",
      "50000/50000 [==============================] - 28s 556us/step - loss: 1.8646 - acc: 0.3230 - val_loss: 1.7136 - val_acc: 0.3741\n",
      "Epoch 5/10\n",
      "50000/50000 [==============================] - 28s 558us/step - loss: 1.7672 - acc: 0.3590 - val_loss: 1.7970 - val_acc: 0.3481\n",
      "Epoch 6/10\n",
      "50000/50000 [==============================] - 28s 556us/step - loss: 1.6842 - acc: 0.3871 - val_loss: 1.5681 - val_acc: 0.4377\n",
      "Epoch 7/10\n",
      "50000/50000 [==============================] - 28s 556us/step - loss: 1.6198 - acc: 0.4107 - val_loss: 1.5131 - val_acc: 0.4557\n",
      "Epoch 8/10\n",
      "50000/50000 [==============================] - 28s 556us/step - loss: 1.5696 - acc: 0.4330 - val_loss: 1.5079 - val_acc: 0.4590\n",
      "Epoch 9/10\n",
      "50000/50000 [==============================] - 28s 559us/step - loss: 1.5318 - acc: 0.4468 - val_loss: 1.4733 - val_acc: 0.4684\n",
      "Epoch 10/10\n",
      "50000/50000 [==============================] - 27s 549us/step - loss: 1.4897 - acc: 0.4614 - val_loss: 1.4466 - val_acc: 0.4772\n"
     ]
    }
   ],
   "source": [
    "# Dimension of the batch size (number of images over which error gradients are averaged)\n",
    "batch_size = 100\n",
    "# We train the model for 10 epochs\n",
    "epochs = 10\n",
    "\n",
    "# START CODE HERE\n",
    "history1 = model.fit(x=x_train, y=y_train, validation_data=(x_test,y_test)\n",
    "                    ,epochs=epochs, batch_size=batch_size)\n",
    "# END CODE HERE"
   ]
  },
  {
   "cell_type": "code",
   "execution_count": 10,
   "metadata": {},
   "outputs": [
    {
     "data": {
      "image/png": "[encoded data removed]",
      "text/plain": [
       "<Figure size 432x288 with 1 Axes>"
      ]
     },
     "metadata": {
      "needs_background": "light"
     },
     "output_type": "display_data"
    },
    {
     "data": {
      "image/png": "[encoded data removed]",
      "text/plain": [
       "<Figure size 432x288 with 1 Axes>"
      ]
     },
     "metadata": {
      "needs_background": "light"
     },
     "output_type": "display_data"
    }
   ],
   "source": [
    "# summarize history for loss\n",
    "# START CODE HERE\n",
    "plt.plot(history1.history['val_loss'])\n",
    "plt.plot(history1.history['loss'])\n",
    "plt.title('validation loss')\n",
    "plt.ylabel('loss')\n",
    "plt.xlabel('iteration')\n",
    "plt.legend(['train','test'])\n",
    "# END CODE HERE\n",
    "plt.show()\n",
    "\n",
    "# summarize history for accuracy\n",
    "plt.plot(history1.history['val_acc'])\n",
    "plt.plot(history1.history['acc'])\n",
    "plt.title('validation accuracy')\n",
    "plt.ylabel('accuracy')\n",
    "plt.xlabel('iteration')\n",
    "plt.legend(['train','test'])\n",
    "# END CODE HERE\n",
    "plt.show()\n"
   ]
  },
  {
   "cell_type": "markdown",
   "metadata": {
    "colab_type": "text",
    "id": "qzbLZK67HTMC"
   },
   "source": [
    "# Data augmentation\n",
    "Instantiate an ImageDataGenerator using, for example, 10% random scaling and horizontal flipping as random transformations.\n",
    "Find a set of random transformations that improve the network performance and note down the new reference performance."
   ]
  },
  {
   "cell_type": "code",
   "execution_count": 11,
   "metadata": {
    "colab": {},
    "colab_type": "code",
    "id": "0Hm6ZydNHdyg"
   },
   "outputs": [
    {
     "name": "stdout",
     "output_type": "stream",
     "text": [
      "Epoch 1/10\n",
      "500/500 [==============================] - 27s 54ms/step - loss: 1.6759 - acc: 0.4284 - val_loss: 5.1225 - val_acc: 0.4402\n",
      "Epoch 2/10\n",
      "500/500 [==============================] - 27s 54ms/step - loss: 1.5450 - acc: 0.4431 - val_loss: 5.1805 - val_acc: 0.4636\n",
      "Epoch 3/10\n",
      "500/500 [==============================] - 27s 54ms/step - loss: 1.5011 - acc: 0.4574 - val_loss: 4.9570 - val_acc: 0.4798\n",
      "Epoch 4/10\n",
      "500/500 [==============================] - 27s 54ms/step - loss: 1.4736 - acc: 0.4703 - val_loss: 4.8679 - val_acc: 0.4972\n",
      "Epoch 5/10\n",
      "500/500 [==============================] - 27s 54ms/step - loss: 1.4508 - acc: 0.4776 - val_loss: 4.6332 - val_acc: 0.5103\n",
      "Epoch 6/10\n",
      "500/500 [==============================] - 27s 54ms/step - loss: 1.4202 - acc: 0.4904 - val_loss: 5.3736 - val_acc: 0.4896\n",
      "Epoch 7/10\n",
      "500/500 [==============================] - 27s 54ms/step - loss: 1.4007 - acc: 0.4978 - val_loss: 5.4718 - val_acc: 0.4801\n",
      "Epoch 8/10\n",
      "500/500 [==============================] - 27s 53ms/step - loss: 1.3765 - acc: 0.5077 - val_loss: 5.1752 - val_acc: 0.4997\n",
      "Epoch 9/10\n",
      "500/500 [==============================] - 27s 54ms/step - loss: 1.3542 - acc: 0.5160 - val_loss: 4.8222 - val_acc: 0.5141\n",
      "Epoch 10/10\n",
      "500/500 [==============================] - 27s 55ms/step - loss: 1.3393 - acc: 0.5210 - val_loss: 4.6529 - val_acc: 0.5356\n"
     ]
    }
   ],
   "source": [
    "# Creating a batch preprocessor for augmenting the trainig data\n",
    "from keras.preprocessing.image import ImageDataGenerator\n",
    "batch_size = 100\n",
    "\n",
    "datagen = ImageDataGenerator(rescale=0.1, horizontal_flip=True)\n",
    "datagen.fit(x_train)\n",
    "h1 = model.fit_generator(datagen.flow(x_train,y_train,batch_size=batch_size),\n",
    "                        epochs=epochs, validation_data=(x_test,y_test),\n",
    "                        steps_per_epoch = len(x_train)/batch_size)\n",
    "\n"
   ]
  },
  {
   "cell_type": "code",
   "execution_count": 16,
   "metadata": {},
   "outputs": [],
   "source": [
    "from keras.models import Sequential\n",
    "from keras.layers import Dense, Activation, Flatten, Dropout, LSTM, Bidirectional\n",
    "from keras.layers import Conv1D, MaxPooling2D\n",
    "\n",
    "\n",
    "model = Sequential()\n",
    "# CNN\n",
    "model.add(Conv1D(filters=5,kernel_size=40, activation='relu', padding='same'))\n",
    "#model.add(Dropout(0.5))\n",
    "model.add(MaxPooling2D(pool_size=2))\n",
    "#model.add(Convolution1D(filters=500,kernel_size=40,activation='relu', padding='same'))\n",
    "#model.add(Dropout(0.5))\n",
    "#model.add(MaxPooling2D(pool_size=20))\n",
    "#model.add(Bidirectional(LSTM(128, activation='tanh', return_sequences=True)))\n",
    "\n",
    "myop = optimizers.Adam(lr=0.001)\n",
    "model.compile(optimizer=myop,loss='categorical_crossentropy', metrics=['accuracy'])\n",
    "\n",
    "#model.summary()"
   ]
  },
  {
   "cell_type": "code",
   "execution_count": 17,
   "metadata": {},
   "outputs": [
    {
     "data": {
      "text/plain": [
       "<keras.engine.sequential.Sequential at 0x1aaa73107f0>"
      ]
     },
     "execution_count": 17,
     "metadata": {},
     "output_type": "execute_result"
    }
   ],
   "source": [
    "model"
   ]
  },
  {
   "cell_type": "code",
   "execution_count": null,
   "metadata": {},
   "outputs": [],
   "source": []
  }
 ],
 "metadata": {
  "accelerator": "GPU",
  "colab": {
   "collapsed_sections": [],
   "name": "TP4_3_empty.ipynb",
   "provenance": [],
   "version": "0.3.2"
  },
  "kernelspec": {
   "display_name": "Python 3",
   "language": "python",
   "name": "python3"
  },
  "language_info": {
   "codemirror_mode": {
    "name": "ipython",
    "version": 3
   },
   "file_extension": ".py",
   "mimetype": "text/x-python",
   "name": "python",
   "nbconvert_exporter": "python",
   "pygments_lexer": "ipython3",
   "version": "3.7.3"
  }
 },
 "nbformat": 4,
 "nbformat_minor": 1
}
