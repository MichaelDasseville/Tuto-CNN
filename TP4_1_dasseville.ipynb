{
 "cells": [
  {
   "cell_type": "markdown",
   "metadata": {},
   "source": [
    "Michael Dasseville"
   ]
  },
  {
   "cell_type": "markdown",
   "metadata": {
    "colab_type": "text",
    "id": "iafPdtuncbq7"
   },
   "source": [
    "<h1><center>TSIA 2013 Introduction to Deep Learning</center></h1>\n",
    "<h2><center>MNIST classification using a FCN</center></h2>\n",
    "<center>Email the complete notebook to attilio.fiandrotti@telecom-paristech.fr</center>"
   ]
  },
  {
   "cell_type": "markdown",
   "metadata": {
    "colab_type": "text",
    "id": "I4VrCB5La5rD"
   },
   "source": [
    "# Installing and importing Keras"
   ]
  },
  {
   "cell_type": "code",
   "execution_count": 1,
   "metadata": {
    "colab": {},
    "colab_type": "code",
    "id": "OlKZ3Hnas7B4"
   },
   "outputs": [],
   "source": [
    "# Importing the Keras main module: different backends will have different data ordering:\n",
    "# theano backend: NCHW\n",
    "# tensorflow backend: NHWC \n",
    "import keras"
   ]
  },
  {
   "cell_type": "markdown",
   "metadata": {
    "colab_type": "text",
    "id": "s_QLz9_jbRZq"
   },
   "source": [
    "# Loading and preparing the MNIST dataset\n",
    "Load the MNIST dataset made available by keras.datasets\n",
    "Verify the amount of system memory available before and after loading the dataset."
   ]
  },
  {
   "cell_type": "code",
   "execution_count": 2,
   "metadata": {
    "cellView": "both",
    "colab": {},
    "colab_type": "code",
    "id": "gG83hGyVmijn"
   },
   "outputs": [
    {
     "name": "stdout",
     "output_type": "stream",
     "text": [
      "svmem(total=17107861504, available=9375297536, percent=45.2, used=7732563968, free=9375297536)\n",
      "svmem(total=17107861504, available=9315676160, percent=45.5, used=7792185344, free=9315676160)\n"
     ]
    }
   ],
   "source": [
    "#@title\n",
    "# The MNSIT dataset is ready to be imported from Keras into RAM\n",
    "# Warning: you cannot do that for larger databases (e.g., ImageNet)\n",
    "from keras.datasets import mnist\n",
    "# START CODE HERE\n",
    "from psutil import virtual_memory\n",
    "print(virtual_memory())\n",
    "(x_train, y_train), (x_test, y_test) = mnist.load_data()\n",
    "print(virtual_memory())\n",
    "# END CODE HERE"
   ]
  },
  {
   "cell_type": "markdown",
   "metadata": {
    "colab_type": "text",
    "id": "gRPbU_Z4U6Ac"
   },
   "source": [
    "Using the pyplot package, visualize the fist sample of the trainig set"
   ]
  },
  {
   "cell_type": "code",
   "execution_count": 3,
   "metadata": {
    "colab": {},
    "colab_type": "code",
    "id": "x5VAu7oW0Zu4"
   },
   "outputs": [],
   "source": [
    "# Let us visualize the first training sample using the Gnuplot library\n",
    "from matplotlib import pyplot as plt\n",
    "# START CODE HERE\n",
    "for num in range(0,5):\n",
    "    dt = next(iter(x_train))\n",
    "    tt = next(iter(y_train))\n",
    "    plt.subplot(1,5,num+1)\n",
    "    plt.imshow(dt)\n",
    "    plt.title(tt)\n",
    "# END CODE HERE"
   ]
  },
  {
   "cell_type": "markdown",
   "metadata": {
    "colab_type": "text",
    "id": "s7YsRekMVDg-"
   },
   "source": [
    "Turn train and test labels to one-hot encoding"
   ]
  },
  {
   "cell_type": "code",
   "execution_count": 4,
   "metadata": {},
   "outputs": [
    {
     "name": "stdout",
     "output_type": "stream",
     "text": [
      "7\n"
     ]
    }
   ],
   "source": [
    "print(y_train[15])"
   ]
  },
  {
   "cell_type": "code",
   "execution_count": 5,
   "metadata": {
    "colab": {},
    "colab_type": "code",
    "id": "lQbkllF8mnaf"
   },
   "outputs": [
    {
     "name": "stdout",
     "output_type": "stream",
     "text": [
      "(60000, 28, 28)\n",
      "(60000, 10)\n",
      "(10000, 28, 28)\n",
      "(10000, 10)\n"
     ]
    }
   ],
   "source": [
    "from keras.utils.np_utils import to_categorical\n",
    "# START CODE HERE\n",
    "y_train = to_categorical(y_train, num_classes=10, dtype='float32')\n",
    "y_test = to_categorical(y_test, num_classes=10, dtype='float32')\n",
    "# END CODE HERE\n",
    "print(x_train.shape)\n",
    "print(y_train.shape)\n",
    "print(x_test.shape)\n",
    "print(y_test.shape)"
   ]
  },
  {
   "cell_type": "markdown",
   "metadata": {
    "colab_type": "text",
    "id": "0jv29YLtVO3q"
   },
   "source": [
    "Reshape train and test images so that they follow the Tensoflow NWHC ordering.\n",
    "Then, normalize the images so that they have zero-mean (approximate solutions are ok)"
   ]
  },
  {
   "cell_type": "code",
   "execution_count": 6,
   "metadata": {
    "colab": {},
    "colab_type": "code",
    "id": "ptTRSDo5nJyZ"
   },
   "outputs": [],
   "source": [
    "# Reshape to proper images with 1 color channel according to backend scheme\n",
    "img_rows, img_cols = 28, 28\n",
    "#train_images = train_images.reshape(...)\n",
    "# START CODE HERE\n",
    "x_train = x_train.reshape(60000,img_rows, img_cols,order='C')\n",
    "x_test = x_test.reshape(10000,img_rows, img_cols,order='C')\n",
    "# END CODE HERE\n",
    "\n",
    "# Now let us normalize the image in the [0-1] range paying attention to use floats rather than uint8\n",
    "#train_images = train_images.astype('float32')\n",
    "# START CODE HERE\n",
    "x_train = x_train.astype('float32')\n",
    "x_test = x_test.astype('float32')\n",
    "# END CODE HERE"
   ]
  },
  {
   "cell_type": "markdown",
   "metadata": {
    "colab_type": "text",
    "id": "uwm1OFOtc4uU"
   },
   "source": [
    "# Defining the neural network architecture (i.e., the network model)"
   ]
  },
  {
   "cell_type": "markdown",
   "metadata": {
    "colab_type": "text",
    "id": "lnKYaP-KVoOs"
   },
   "source": [
    "Create a LeNet300-like fully connected network taking in input the images as vectors of pixels and suitable to classify each image across 10 different classes. For this first implementation of the network, use only sigmoid activations."
   ]
  },
  {
   "cell_type": "code",
   "execution_count": 7,
   "metadata": {
    "colab": {},
    "colab_type": "code",
    "id": "Pnd3q1V3nk8v"
   },
   "outputs": [
    {
     "name": "stdout",
     "output_type": "stream",
     "text": [
      "WARNING:tensorflow:From C:\\Users\\Michael\\Anaconda3\\lib\\site-packages\\tensorflow\\python\\framework\\op_def_library.py:263: colocate_with (from tensorflow.python.framework.ops) is deprecated and will be removed in a future version.\n",
      "Instructions for updating:\n",
      "Colocations handled automatically by placer.\n",
      "_________________________________________________________________\n",
      "Layer (type)                 Output Shape              Param #   \n",
      "=================================================================\n",
      "flatten_1 (Flatten)          (None, 784)               0         \n",
      "_________________________________________________________________\n",
      "dense_1 (Dense)              (None, 300)               235500    \n",
      "_________________________________________________________________\n",
      "activation_1 (Activation)    (None, 300)               0         \n",
      "_________________________________________________________________\n",
      "dense_2 (Dense)              (None, 100)               30100     \n",
      "_________________________________________________________________\n",
      "activation_2 (Activation)    (None, 100)               0         \n",
      "_________________________________________________________________\n",
      "dense_3 (Dense)              (None, 10)                1010      \n",
      "_________________________________________________________________\n",
      "activation_3 (Activation)    (None, 10)                0         \n",
      "=================================================================\n",
      "Total params: 266,610\n",
      "Trainable params: 266,610\n",
      "Non-trainable params: 0\n",
      "_________________________________________________________________\n"
     ]
    }
   ],
   "source": [
    "# The Sequential module is a container for more complex NN elements and\n",
    "# defines a loop-less NN architecture\n",
    "from keras.models import Sequential\n",
    "from keras.layers import Dense, Activation, Flatten\n",
    "\n",
    "# START CODE HERE\n",
    "model = Sequential()\n",
    "\n",
    "model.add(Flatten(input_shape=(28,28)))\n",
    "\n",
    "model.add(Dense(units=300, input_dim=28*28))\n",
    "model.add(Activation('sigmoid'))\n",
    "\n",
    "model.add(Dense(units=100, input_dim=300))\n",
    "model.add(Activation('sigmoid'))\n",
    "\n",
    "model.add(Dense(units=10, input_dim=100))\n",
    "model.add(Activation('softmax'))\n",
    "# END CODE HERE\n",
    "# Let us have a look at the model topology\n",
    "keras.utils.print_summary(model)"
   ]
  },
  {
   "cell_type": "markdown",
   "metadata": {
    "colab_type": "text",
    "id": "7g2PNEiwWBLw"
   },
   "source": [
    "Instantiate a SGD optimizer with a tentative LR of 10^-4 and using the appropriate loss function and compile the model."
   ]
  },
  {
   "cell_type": "code",
   "execution_count": 8,
   "metadata": {
    "colab": {},
    "colab_type": "code",
    "id": "SijGZGKjV9J2"
   },
   "outputs": [
    {
     "name": "stdout",
     "output_type": "stream",
     "text": [
      "_________________________________________________________________\n",
      "Layer (type)                 Output Shape              Param #   \n",
      "=================================================================\n",
      "flatten_1 (Flatten)          (None, 784)               0         \n",
      "_________________________________________________________________\n",
      "dense_1 (Dense)              (None, 300)               235500    \n",
      "_________________________________________________________________\n",
      "activation_1 (Activation)    (None, 300)               0         \n",
      "_________________________________________________________________\n",
      "dense_2 (Dense)              (None, 100)               30100     \n",
      "_________________________________________________________________\n",
      "activation_2 (Activation)    (None, 100)               0         \n",
      "_________________________________________________________________\n",
      "dense_3 (Dense)              (None, 10)                1010      \n",
      "_________________________________________________________________\n",
      "activation_3 (Activation)    (None, 10)                0         \n",
      "=================================================================\n",
      "Total params: 266,610\n",
      "Trainable params: 266,610\n",
      "Non-trainable params: 0\n",
      "_________________________________________________________________\n"
     ]
    }
   ],
   "source": [
    "# The optimizers module provides a number of optimization algorithms for updating\n",
    "# a netwok parameters accoridng to teh computed error gradints\n",
    "from keras import optimizers\n",
    "\n",
    "# START CODE HERE\n",
    "myop = optimizers.SGD(lr=0.0001)\n",
    "model.compile(optimizer=myop,loss='categorical_crossentropy', metrics=['accuracy'])\n",
    "model.summary()\n",
    "# END CODE HERE"
   ]
  },
  {
   "cell_type": "markdown",
   "metadata": {
    "colab_type": "text",
    "id": "_AWUAW4idF3D"
   },
   "source": [
    "# Training the network"
   ]
  },
  {
   "cell_type": "markdown",
   "metadata": {
    "colab_type": "text",
    "id": "u-WqMtSAWTRp"
   },
   "source": [
    "Train the model for 10 epochs using the fit() method, without batch training initially validating the model at each epoch and keeping track of the training history."
   ]
  },
  {
   "cell_type": "code",
   "execution_count": 9,
   "metadata": {
    "colab": {},
    "colab_type": "code",
    "id": "gTHrbb7uFYWz"
   },
   "outputs": [
    {
     "name": "stdout",
     "output_type": "stream",
     "text": [
      "WARNING:tensorflow:From C:\\Users\\Michael\\Anaconda3\\lib\\site-packages\\tensorflow\\python\\ops\\math_ops.py:3066: to_int32 (from tensorflow.python.ops.math_ops) is deprecated and will be removed in a future version.\n",
      "Instructions for updating:\n",
      "Use tf.cast instead.\n",
      "Train on 60000 samples, validate on 10000 samples\n",
      "Epoch 1/10\n",
      "60000/60000 [==============================] - 7s 115us/step - loss: 2.4030 - acc: 0.1249 - val_loss: 2.3098 - val_acc: 0.1597\n",
      "Epoch 2/10\n",
      "60000/60000 [==============================] - 6s 108us/step - loss: 2.2591 - acc: 0.2307 - val_loss: 2.2060 - val_acc: 0.3131\n",
      "Epoch 3/10\n",
      "60000/60000 [==============================] - 6s 106us/step - loss: 2.1757 - acc: 0.3377 - val_loss: 2.1373 - val_acc: 0.3890\n",
      "Epoch 4/10\n",
      "60000/60000 [==============================] - 6s 107us/step - loss: 2.1154 - acc: 0.4055 - val_loss: 2.0829 - val_acc: 0.4537\n",
      "Epoch 5/10\n",
      "60000/60000 [==============================] - 7s 109us/step - loss: 2.0647 - acc: 0.4756 - val_loss: 2.0346 - val_acc: 0.5201\n",
      "Epoch 6/10\n",
      "60000/60000 [==============================] - 7s 114us/step - loss: 2.0183 - acc: 0.5407 - val_loss: 1.9890 - val_acc: 0.5720\n",
      "Epoch 7/10\n",
      "60000/60000 [==============================] - 6s 107us/step - loss: 1.9741 - acc: 0.5843 - val_loss: 1.9452 - val_acc: 0.6030\n",
      "Epoch 8/10\n",
      "60000/60000 [==============================] - 6s 105us/step - loss: 1.9316 - acc: 0.6128 - val_loss: 1.9028 - val_acc: 0.6313\n",
      "Epoch 9/10\n",
      "60000/60000 [==============================] - 6s 108us/step - loss: 1.8901 - acc: 0.6344 - val_loss: 1.8614 - val_acc: 0.6487\n",
      "Epoch 10/10\n",
      "60000/60000 [==============================] - 6s 107us/step - loss: 1.8496 - acc: 0.6511 - val_loss: 1.8209 - val_acc: 0.6622\n"
     ]
    }
   ],
   "source": [
    "# This is where the actual training-testing happens\n",
    "# Number of epochs we want to train\n",
    "epochs = 10\n",
    "\n",
    "# START CODE HERE\n",
    "history = model.fit(x=x_train, y=y_train, validation_data=(x_test,y_test),epochs=epochs)\n",
    "# END CODE HERE"
   ]
  },
  {
   "cell_type": "markdown",
   "metadata": {
    "colab_type": "text",
    "id": "ODUc5Bq_dMEq"
   },
   "source": [
    "# Visualizing the network performance\n",
    "Visualize the training history using the pyplot package: plot in one graph the train and vaidation loss functions, in another graph the train and validation accuracy"
   ]
  },
  {
   "cell_type": "code",
   "execution_count": 10,
   "metadata": {
    "colab": {},
    "colab_type": "code",
    "id": "QdJrRbyariEw"
   },
   "outputs": [
    {
     "name": "stdout",
     "output_type": "stream",
     "text": [
      "dict_keys(['val_loss', 'val_acc', 'loss', 'acc'])\n"
     ]
    },
    {
     "data": {
      "image/png": "[encoded data removed]",
      "text/plain": [
       "<Figure size 432x288 with 1 Axes>"
      ]
     },
     "metadata": {
      "needs_background": "light"
     },
     "output_type": "display_data"
    },
    {
     "data": {
      "image/png": "[encoded data removed]",
      "text/plain": [
       "<Figure size 432x288 with 1 Axes>"
      ]
     },
     "metadata": {
      "needs_background": "light"
     },
     "output_type": "display_data"
    }
   ],
   "source": [
    "# We now want to plot the train and validation loss functions and accuracy curves\n",
    "print(history.history.keys())\n",
    "\n",
    "# summarize history for loss\n",
    "# START CODE HERE\n",
    "plt.plot(history.history['loss'])\n",
    "plt.plot(history.history['val_loss'])\n",
    "plt.title('model loss')\n",
    "plt.ylabel('loss')\n",
    "plt.xlabel('iteration')\n",
    "plt.legend(['train','test'])\n",
    "# END CODE HERE\n",
    "plt.show()\n",
    "\n",
    "# summarize history for accuracy\n",
    "# START CODE HERE\n",
    "plt.plot(history.history['acc'])\n",
    "plt.plot(history.history['val_acc'])\n",
    "plt.title('model accuracy')\n",
    "plt.ylabel('accuracy')\n",
    "plt.xlabel('iteration')\n",
    "plt.legend(['train','test'])\n",
    "# END CODE HERE\n",
    "plt.show()\n"
   ]
  },
  {
   "cell_type": "markdown",
   "metadata": {
    "colab_type": "text",
    "id": "Nr4TdWoEoDzi"
   },
   "source": [
    "# Experiments\n",
    "\n",
    "Note down the performance of the trained network in terms of training and validation accuracy as a reference (save the loss/accuracy graphs of the trained network).\n",
    "\n",
    "Then,  experiment as follow and compare performance with the reference scenario:\n",
    "\n",
    "*  Experiment increasing the batch size (from purely stochastic case) and compare performance with reference.\n",
    "*  Experiment gradually increasing the learning rate starting from 10^-4 and find a reasonable learning rate value the network can tolerate without diverging.\n",
    "*  Experiment replacing the sigmoid activations with Relus and note what happens.\n",
    "*  Calculate the complexity of the first fully connected layer in terms of number of learnable parameters.\n",
    "\n",
    "\n",
    "\n",
    "\n"
   ]
  }
 ],
 "metadata": {
  "accelerator": "GPU",
  "colab": {
   "collapsed_sections": [],
   "name": "TP4_1_empty.ipynb",
   "provenance": [],
   "version": "0.3.2"
  },
  "kernelspec": {
   "display_name": "Python 3",
   "language": "python",
   "name": "python3"
  },
  "language_info": {
   "codemirror_mode": {
    "name": "ipython",
    "version": 3
   },
   "file_extension": ".py",
   "mimetype": "text/x-python",
   "name": "python",
   "nbconvert_exporter": "python",
   "pygments_lexer": "ipython3",
   "version": "3.7.3"
  }
 },
 "nbformat": 4,
 "nbformat_minor": 1
}
