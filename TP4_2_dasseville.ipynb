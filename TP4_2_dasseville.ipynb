{
 "cells": [
  {
   "cell_type": "markdown",
   "metadata": {},
   "source": [
    "Michael Dasseville"
   ]
  },
  {
   "cell_type": "markdown",
   "metadata": {
    "colab_type": "text",
    "id": "iafPdtuncbq7"
   },
   "source": [
    "<h1><center>TSIA 2013 Introduction to Deep Learning</center></h1>\n",
    "<h2><center>MNIST classification using a CNN</center></h2>\n",
    "<center>Email the complete notebook to attilio.fiandrotti@telecom-paristech.fr</center>"
   ]
  },
  {
   "cell_type": "markdown",
   "metadata": {
    "colab_type": "text",
    "id": "I4VrCB5La5rD"
   },
   "source": [
    "# Installing and importing Keras"
   ]
  },
  {
   "cell_type": "code",
   "execution_count": 1,
   "metadata": {
    "colab": {},
    "colab_type": "code",
    "id": "OlKZ3Hnas7B4"
   },
   "outputs": [
    {
     "name": "stderr",
     "output_type": "stream",
     "text": [
      "Using TensorFlow backend.\n"
     ]
    }
   ],
   "source": [
    "# Importing the Keras main module: different backends will have different data ordering:\n",
    "# theano backend: NCHW\n",
    "# tensorflow backend: NHWC \n",
    "import keras"
   ]
  },
  {
   "cell_type": "markdown",
   "metadata": {
    "colab_type": "text",
    "id": "s_QLz9_jbRZq"
   },
   "source": [
    "# Loading and preparing the MNIST dataset\n",
    "Load the MNIST dataset made available by keras.datasets\n",
    "Verify the amount of system memory available before and after loading the dataset."
   ]
  },
  {
   "cell_type": "code",
   "execution_count": 2,
   "metadata": {
    "cellView": "both",
    "colab": {},
    "colab_type": "code",
    "id": "gG83hGyVmijn"
   },
   "outputs": [],
   "source": [
    "#@title\n",
    "# The MNSIT dataset is ready to be imported from Keras into RAM\n",
    "# Warning: you cannot do that for larger databases (e.g., ImageNet)\n",
    "from keras.datasets import mnist\n",
    "# START CODE HERE\n",
    "(x_train, y_train), (x_test, y_test) = mnist.load_data()\n",
    "# END CODE HERE"
   ]
  },
  {
   "cell_type": "markdown",
   "metadata": {
    "colab_type": "text",
    "id": "tqtZCOxcDS0U"
   },
   "source": [
    "Turn train and test labels to one-hot encoding"
   ]
  },
  {
   "cell_type": "code",
   "execution_count": 3,
   "metadata": {
    "colab": {},
    "colab_type": "code",
    "id": "lQbkllF8mnaf"
   },
   "outputs": [],
   "source": [
    "# Do you remember about one-hot encoding ?\n",
    "from keras.utils.np_utils import to_categorical\n",
    "# START CODE HERE\n",
    "y_train = to_categorical(y_train, num_classes=10, dtype='float32')\n",
    "y_test = to_categorical(y_test, num_classes=10, dtype='float32')\n",
    "# END CODE HERE\n",
    "\n"
   ]
  },
  {
   "cell_type": "markdown",
   "metadata": {
    "colab_type": "text",
    "id": "sTSbzJ8zDi0b"
   },
   "source": [
    "Reshape the train and test images to the correct 4-dimensional NHWC format using the reshape() method.\n",
    "Then, normalize the images so that they have zero mean and standard deviation equal to 1 (also approximate solutions are acceptable)"
   ]
  },
  {
   "cell_type": "code",
   "execution_count": 4,
   "metadata": {
    "colab": {},
    "colab_type": "code",
    "id": "ptTRSDo5nJyZ"
   },
   "outputs": [],
   "source": [
    "# Reshape to proper images with 1 color channel according to backend scheme\n",
    "img_rows, img_cols = 28, 28\n",
    "# START CODE HERE\n",
    "x_train = x_train.reshape(60000,img_rows, img_cols,1)\n",
    "x_test = x_test.reshape(10000,img_rows, img_cols,1)\n",
    "# END CODE HERE\n",
    "\n",
    "# Now let us normalize the image in the [0-1] range\n",
    "# START CODE HERE\n",
    "x_train = x_train.astype('float32')\n",
    "x_test = x_test.astype('float32')\n",
    "# END CODE HERE"
   ]
  },
  {
   "cell_type": "markdown",
   "metadata": {
    "colab_type": "text",
    "id": "uwm1OFOtc4uU"
   },
   "source": [
    "# Defining the neural network architecture (i.e., the network model)\n",
    "Create a LeNet5-like convolutional neural network taking in input the images as matrices of pixels and suitable to classify each image across 10 different classes.\n",
    "Then, instantiate a SGD optimizer with a tentative LR of 10^-3 and using the appropriate loss function and compile the model.\n",
    "Calculate the coputational complexity of the convolutional layer(s) and of the first fully connected layer and compare it with that of the previous exercise."
   ]
  },
  {
   "cell_type": "code",
   "execution_count": 6,
   "metadata": {
    "colab": {},
    "colab_type": "code",
    "id": "Pnd3q1V3nk8v"
   },
   "outputs": [
    {
     "name": "stdout",
     "output_type": "stream",
     "text": [
      "WARNING:tensorflow:From C:\\Users\\Michael\\Anaconda3\\lib\\site-packages\\tensorflow\\python\\framework\\op_def_library.py:263: colocate_with (from tensorflow.python.framework.ops) is deprecated and will be removed in a future version.\n",
      "Instructions for updating:\n",
      "Colocations handled automatically by placer.\n",
      "_________________________________________________________________\n",
      "Layer (type)                 Output Shape              Param #   \n",
      "=================================================================\n",
      "conv2d_1 (Conv2D)            (None, 24, 24, 6)         156       \n",
      "_________________________________________________________________\n",
      "activation_1 (Activation)    (None, 24, 24, 6)         0         \n",
      "_________________________________________________________________\n",
      "max_pooling2d_1 (MaxPooling2 (None, 12, 12, 6)         0         \n",
      "_________________________________________________________________\n",
      "conv2d_2 (Conv2D)            (None, 8, 8, 16)          2416      \n",
      "_________________________________________________________________\n",
      "activation_2 (Activation)    (None, 8, 8, 16)          0         \n",
      "_________________________________________________________________\n",
      "max_pooling2d_2 (MaxPooling2 (None, 4, 4, 16)          0         \n",
      "_________________________________________________________________\n",
      "flatten_1 (Flatten)          (None, 256)               0         \n",
      "_________________________________________________________________\n",
      "dense_1 (Dense)              (None, 120)               30840     \n",
      "_________________________________________________________________\n",
      "activation_3 (Activation)    (None, 120)               0         \n",
      "_________________________________________________________________\n",
      "dense_2 (Dense)              (None, 84)                10164     \n",
      "_________________________________________________________________\n",
      "activation_4 (Activation)    (None, 84)                0         \n",
      "_________________________________________________________________\n",
      "dense_3 (Dense)              (None, 10)                850       \n",
      "_________________________________________________________________\n",
      "activation_5 (Activation)    (None, 10)                0         \n",
      "=================================================================\n",
      "Total params: 44,426\n",
      "Trainable params: 44,426\n",
      "Non-trainable params: 0\n",
      "_________________________________________________________________\n"
     ]
    }
   ],
   "source": [
    "# The Sequential module is sort of a container for more complex NN elements and\n",
    "# defines a loop-less NN architecture\n",
    "from keras.models import Sequential\n",
    "from keras.layers import Dense, Activation, Flatten\n",
    "from keras.layers import Convolution2D, MaxPooling2D\n",
    "\n",
    "# The optimizers module provides a number of optimization algorithms for updating\n",
    "# a netwok parameters accoridng to teh computed error gradints\n",
    "from keras import optimizers\n",
    "\n",
    "input_shape = (img_rows, img_cols, 1)\n",
    "\n",
    "# size of pooling area for max pooling\n",
    "pool_size = (2, 2)\n",
    "# convolution kernel size\n",
    "kernel_size = (5, 5)\n",
    "# Number of filters in first convolutional layer\n",
    "num_kernel_first_conv_layer = 6\n",
    "# Number of filters in second convolutional layer\n",
    "num_kernel_second_conv_layer = 16\n",
    "\n",
    "nb_classes = 10\n",
    "\n",
    "# START CODE HERE\n",
    "model = Sequential()\n",
    "model.add(Convolution2D(input_shape=input_shape, kernel_size=kernel_size,filters=num_kernel_first_conv_layer))\n",
    "model.add(Activation('relu'))\n",
    "model.add(MaxPooling2D(pool_size=pool_size))\n",
    "model.add(Convolution2D(filters=num_kernel_second_conv_layer, kernel_size=kernel_size))\n",
    "model.add(Activation('relu'))\n",
    "model.add(MaxPooling2D(pool_size=pool_size))\n",
    "model.add(Flatten())\n",
    "model.add(Dense(units=120,input_dim=400))\n",
    "model.add(Activation('relu'))\n",
    "model.add(Dense(units=84,input_dim=120))\n",
    "model.add(Activation('relu'))\n",
    "model.add(Dense(units=10, input_dim=84))\n",
    "model.add(Activation('softmax'))\n",
    "# END CODE HERE\n",
    "\n",
    "# Defining our SGD optimizer\n",
    "\n",
    "# START CODE HERE\n",
    "myop = optimizers.Adam(lr=0.001)             #SGD(lr=0.001)\n",
    "model.compile(optimizer=myop,loss='categorical_crossentropy', metrics=['accuracy'])\n",
    "# END CODE HERE\n",
    "\n",
    "# Let us have a look at the model topology\n",
    "model.summary()\n",
    "\n"
   ]
  },
  {
   "cell_type": "markdown",
   "metadata": {
    "colab_type": "text",
    "id": "_AWUAW4idF3D"
   },
   "source": [
    "# Training the network\n",
    "Train the model for 10 epochs and over 10k training samples initially only using the fit() method, validating the model at each epoch and keeping track of the training history"
   ]
  },
  {
   "cell_type": "code",
   "execution_count": 7,
   "metadata": {
    "colab": {},
    "colab_type": "code",
    "id": "gTHrbb7uFYWz"
   },
   "outputs": [
    {
     "name": "stdout",
     "output_type": "stream",
     "text": [
      "WARNING:tensorflow:From C:\\Users\\Michael\\Anaconda3\\lib\\site-packages\\tensorflow\\python\\ops\\math_ops.py:3066: to_int32 (from tensorflow.python.ops.math_ops) is deprecated and will be removed in a future version.\n",
      "Instructions for updating:\n",
      "Use tf.cast instead.\n",
      "Train on 60000 samples, validate on 10000 samples\n",
      "Epoch 1/10\n",
      "60000/60000 [==============================] - 7s 124us/step - loss: 1.2404 - acc: 0.8624 - val_loss: 0.1312 - val_acc: 0.9610\n",
      "Epoch 2/10\n",
      "60000/60000 [==============================] - 3s 53us/step - loss: 0.1014 - acc: 0.9691 - val_loss: 0.1026 - val_acc: 0.9693\n",
      "Epoch 3/10\n",
      "60000/60000 [==============================] - 3s 54us/step - loss: 0.0669 - acc: 0.9790 - val_loss: 0.0747 - val_acc: 0.9781\n",
      "Epoch 4/10\n",
      "60000/60000 [==============================] - 3s 53us/step - loss: 0.0526 - acc: 0.9831 - val_loss: 0.0703 - val_acc: 0.9789\n",
      "Epoch 5/10\n",
      "60000/60000 [==============================] - 3s 53us/step - loss: 0.0444 - acc: 0.9856 - val_loss: 0.0758 - val_acc: 0.9806\n",
      "Epoch 6/10\n",
      "60000/60000 [==============================] - 3s 53us/step - loss: 0.0403 - acc: 0.9877 - val_loss: 0.0628 - val_acc: 0.9807\n",
      "Epoch 7/10\n",
      "60000/60000 [==============================] - 3s 52us/step - loss: 0.0346 - acc: 0.9892 - val_loss: 0.0589 - val_acc: 0.9838\n",
      "Epoch 8/10\n",
      "60000/60000 [==============================] - 3s 53us/step - loss: 0.0314 - acc: 0.9898 - val_loss: 0.0564 - val_acc: 0.9852\n",
      "Epoch 9/10\n",
      "60000/60000 [==============================] - 3s 53us/step - loss: 0.0277 - acc: 0.9908 - val_loss: 0.0753 - val_acc: 0.9805\n",
      "Epoch 10/10\n",
      "60000/60000 [==============================] - 3s 53us/step - loss: 0.0295 - acc: 0.9905 - val_loss: 0.0668 - val_acc: 0.9819\n"
     ]
    }
   ],
   "source": [
    "# This is where the actual training-testing happens\n",
    "# Dimension of the batch size (number of images over which error gradients are averaged)\n",
    "batch_size = 100\n",
    "# Number of epochs we want to train\n",
    "epochs = 10\n",
    "# START CODE HERE\n",
    "history = model.fit(x=x_train, y=y_train, validation_data=(x_test,y_test)\n",
    "                    ,epochs=epochs, batch_size=batch_size)\n",
    "# END CODE HERE"
   ]
  },
  {
   "cell_type": "markdown",
   "metadata": {
    "colab_type": "text",
    "id": "ODUc5Bq_dMEq"
   },
   "source": [
    "# Visualizing the network performance\n",
    "Visualize the training history using the pyplot package: plot in one graph the train and vaidation loss functions, in another graph the train and validation accuracy"
   ]
  },
  {
   "cell_type": "code",
   "execution_count": 9,
   "metadata": {
    "colab": {},
    "colab_type": "code",
    "id": "QdJrRbyariEw"
   },
   "outputs": [
    {
     "data": {
      "image/png": "[encoded data removed]",
      "text/plain": [
       "<Figure size 432x288 with 1 Axes>"
      ]
     },
     "metadata": {
      "needs_background": "light"
     },
     "output_type": "display_data"
    },
    {
     "data": {
      "image/png": "[encoded data removed]",
      "text/plain": [
       "<Figure size 432x288 with 1 Axes>"
      ]
     },
     "metadata": {
      "needs_background": "light"
     },
     "output_type": "display_data"
    }
   ],
   "source": [
    "# We now want to plot the train and validation loss functions and accuracy curves\n",
    "from matplotlib import pyplot as plt\n",
    "\n",
    "\n",
    "# summarize history for loss\n",
    "# START CODE HERE\n",
    "plt.plot(history.history['val_loss'])\n",
    "plt.plot(history.history['loss'])\n",
    "plt.title('validation loss')\n",
    "plt.ylabel('loss')\n",
    "plt.xlabel('iteration')\n",
    "plt.legend(['train','test'])\n",
    "# END CODE HERE\n",
    "plt.show()\n",
    "\n",
    "# summarize history for accuracy\n",
    "plt.plot(history.history['val_acc'])\n",
    "plt.plot(history.history['acc'])\n",
    "plt.title('validation accuracy')\n",
    "plt.ylabel('accuracy')\n",
    "plt.xlabel('iteration')\n",
    "plt.legend(['train','test'])\n",
    "# END CODE HERE\n",
    "plt.show()\n"
   ]
  },
  {
   "cell_type": "markdown",
   "metadata": {
    "colab_type": "text",
    "id": "Nr4TdWoEoDzi"
   },
   "source": [
    "# Experiments\n",
    "\n",
    "Note down the performance of the trained network in terms of training and validation accuracy as a reference. Then, experiment as follow and compare performance with the reference scenario.\n",
    "\n",
    "* Experiment with square filters of different size and compare performance with reference scenario.\n",
    "* Experiment increasing the number of filters in the first and second layer and find the maximum number of filters the network can tolerate before overfitting to the training samples.\n",
    "* Expeirment with different pooling layers (maxpooling and avgpooling): which one yield the best performance ?\n",
    "* Modify the network architecture to obtain a twofold reduction of each featuremap without resorting to pooling layers (hint: take insipiration from the ResNet architecture).\n",
    "* Using the proper metric  from sklearn, check which character is most frequently confused with which: can you explain why ?\n",
    "\n",
    "\n",
    "\n"
   ]
  },
  {
   "cell_type": "code",
   "execution_count": 10,
   "metadata": {
    "colab": {},
    "colab_type": "code",
    "id": "r0C1J6R1Elfc"
   },
   "outputs": [
    {
     "name": "stdout",
     "output_type": "stream",
     "text": [
      "[[ 973    1    1    0    0    0    2    2    1    0]\n",
      " [   0 1132    1    0    0    1    1    0    0    0]\n",
      " [   1    2 1014    1    1    0    0    9    4    0]\n",
      " [   0    1    3  980    0   15    0    5    3    3]\n",
      " [   1    0    1    0  963    1    4    0    0   12]\n",
      " [   1    1    0    0    0  885    4    1    0    0]\n",
      " [   2    2    0    0    0    2  950    0    2    0]\n",
      " [   0    5    5    0    1    0    0 1012    2    3]\n",
      " [  10    1    0    2    2   11    1    8  934    5]\n",
      " [   3    4    0    1    7    8    0    3    7  976]]\n"
     ]
    }
   ],
   "source": [
    "# Example of a confusion matrix using sklearn.metrics\n",
    "from sklearn.metrics import confusion_matrix\n",
    "predictions = model.predict(x_test)\n",
    "# Mind that confusion_matrix requires\n",
    "# START CODE HERE\n",
    "matrix = confusion_matrix(y_test.argmax(axis=1),\n",
    "                        predictions.argmax(axis=1))\n",
    "\n",
    "# END CODE HERE\n",
    "print (matrix)"
   ]
  }
 ],
 "metadata": {
  "accelerator": "GPU",
  "colab": {
   "collapsed_sections": [
    "I4VrCB5La5rD"
   ],
   "name": "TP4_2_empty.ipynb",
   "provenance": [],
   "version": "0.3.2"
  },
  "kernelspec": {
   "display_name": "Python 3",
   "language": "python",
   "name": "python3"
  },
  "language_info": {
   "codemirror_mode": {
    "name": "ipython",
    "version": 3
   },
   "file_extension": ".py",
   "mimetype": "text/x-python",
   "name": "python",
   "nbconvert_exporter": "python",
   "pygments_lexer": "ipython3",
   "version": "3.7.3"
  }
 },
 "nbformat": 4,
 "nbformat_minor": 1
}
